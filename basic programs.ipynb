{
 "cells": [
  {
   "cell_type": "code",
   "execution_count": 1,
   "metadata": {},
   "outputs": [
    {
     "name": "stdout",
     "output_type": "stream",
     "text": [
      "first number34\n",
      "\n",
      "second number56\n",
      "the sum of 34 and 56 is 90.0\n"
     ]
    }
   ],
   "source": [
    "num1 = input(\"first number\")\n",
    "num2 = input(\"\\nsecond number\")\n",
    "sum  = float(num1)+float(num2)\n",
    "print (\"the sum of {0} and {1} is {2}\" .format(num1,num2,sum))\n"
   ]
  },
  {
   "cell_type": "code",
   "execution_count": 6,
   "metadata": {},
   "outputs": [
    {
     "name": "stdout",
     "output_type": "stream",
     "text": [
      "enter a number:6\n",
      "factorial of  6.0 is 720.0\n"
     ]
    }
   ],
   "source": [
    "num = float(input(\"enter a number:\"))\n",
    "def fact(n):\n",
    "    if (n==1 or n==0):\n",
    "        return 1\n",
    "    else:\n",
    "        return n*fact(n-1)\n",
    "    \n",
    "print(\"factorial of \",num,\"is\",fact(num))"
   ]
  },
  {
   "cell_type": "code",
   "execution_count": 7,
   "metadata": {},
   "outputs": [
    {
     "name": "stdout",
     "output_type": "stream",
     "text": [
      "principal is 4000\n",
      "time is  4\n",
      "rate is  5\n",
      "simple interest is  800.0\n"
     ]
    },
    {
     "data": {
      "text/plain": [
       "800.0"
      ]
     },
     "execution_count": 7,
     "metadata": {},
     "output_type": "execute_result"
    }
   ],
   "source": [
    "#simple interest\n",
    "def si(p,t,r):\n",
    "    print(\"principal is\",p)\n",
    "    print(\"time is \",t)\n",
    "    print(\"rate is \",r)\n",
    "    simpleint = (p*t*r)/100\n",
    "    print (\"simple interest is \",simpleint)\n",
    "    return simpleint\n",
    "si(4000,4,5)\n",
    "    "
   ]
  },
  {
   "cell_type": "code",
   "execution_count": 10,
   "metadata": {},
   "outputs": [
    {
     "name": "stdout",
     "output_type": "stream",
     "text": [
      "compound interest is  14883.199999999993\n"
     ]
    },
    {
     "data": {
      "text/plain": [
       "14883.199999999993"
      ]
     },
     "execution_count": 10,
     "metadata": {},
     "output_type": "execute_result"
    }
   ],
   "source": [
    "def ci(p,r,t):\n",
    "    amount =p * (pow((1+r/100),t))\n",
    "    compoundint = amount - p\n",
    "    print (\"compound interest is \",compoundint)\n",
    "    return compoundint\n",
    "ci(10000,20,5)\n",
    "#compound interest\n"
   ]
  },
  {
   "cell_type": "code",
   "execution_count": 12,
   "metadata": {},
   "outputs": [
    {
     "name": "stdout",
     "output_type": "stream",
     "text": [
      "enter a number: 456\n",
      "456 is not an armstrong number\n"
     ]
    }
   ],
   "source": [
    "num = int(input(\"enter a number: \"))\n",
    "sum=0\n",
    "temp=num\n",
    "\n",
    "while temp>0:\n",
    "    r=temp%10\n",
    "    sum=sum+r**3\n",
    "    temp= temp//10\n",
    "    \n",
    "if (num==sum):\n",
    "    print(num,\"is an armstrong number\")\n",
    "else:\n",
    "    print(num,\"is not an armstrong number\")\n",
    "    "
   ]
  },
  {
   "cell_type": "code",
   "execution_count": 13,
   "metadata": {},
   "outputs": [
    {
     "name": "stdout",
     "output_type": "stream",
     "text": [
      "enter a number5\n",
      "area is:  78.5\n"
     ]
    }
   ],
   "source": [
    "#area of circle\n",
    "rad = float(input(\"enter a number\"))\n",
    "area = 3.14*rad**2\n",
    "print(\"area is: \",area)"
   ]
  },
  {
   "cell_type": "code",
   "execution_count": 18,
   "metadata": {},
   "outputs": [
    {
     "name": "stdout",
     "output_type": "stream",
     "text": [
      "enter lower number10\n",
      "enter upper number20\n",
      "11\n",
      "13\n",
      "17\n",
      "19\n"
     ]
    }
   ],
   "source": [
    "#prime numbers in an interval\n",
    "lower = int(input(\"enter lower number\"))\n",
    "upper = int(input(\"enter upper number\"))\n",
    "\n",
    "for num in range(lower,upper+1):\n",
    "    if num > 1:\n",
    "        for i in range(2,num):\n",
    "            if (num%i)==0 :\n",
    "                break\n",
    "        else:\n",
    "                print (num)"
   ]
  },
  {
   "cell_type": "code",
   "execution_count": 20,
   "metadata": {},
   "outputs": [
    {
     "name": "stdout",
     "output_type": "stream",
     "text": [
      "ente a number12\n",
      "not prime\n"
     ]
    }
   ],
   "source": [
    "# check if a number is prime or not\n",
    "num = int(input(\"ente a number\"))\n",
    "if num>1:\n",
    "    for i in range(2,num):\n",
    "        if (num%i)==0:\n",
    "            print(\"not prime\")\n",
    "            break\n",
    "    else:\n",
    "        print(\"prime\")\n",
    "else:\n",
    "    print(\"prime\")\n",
    "    "
   ]
  },
  {
   "cell_type": "code",
   "execution_count": 28,
   "metadata": {},
   "outputs": [
    {
     "name": "stdout",
     "output_type": "stream",
     "text": [
      "21\n"
     ]
    }
   ],
   "source": [
    "# fibonacci number\n",
    "def fib(n):\n",
    "    a=0\n",
    "    b=1\n",
    "    if n<0:\n",
    "        print(\"incorrect\")\n",
    "    elif n==0:\n",
    "        return a\n",
    "    elif n==1:\n",
    "        return b\n",
    "    else:\n",
    "        for i in range (2,n):\n",
    "            c=a+b\n",
    "            a=b\n",
    "            b=c\n",
    "        return c\n",
    "        \n",
    "print (fib(9))"
   ]
  },
  {
   "cell_type": "code",
   "execution_count": 33,
   "metadata": {},
   "outputs": [
    {
     "name": "stdout",
     "output_type": "stream",
     "text": [
      "how many terms? 7\n",
      "0\n",
      "1\n",
      "1\n",
      "2\n",
      "3\n",
      "5\n",
      "8\n"
     ]
    }
   ],
   "source": [
    "#generate fibonacci series\n",
    "terms = int(input(\"how many terms? \"))\n",
    "a=0\n",
    "b=1\n",
    "count=0\n",
    "if terms<0:\n",
    "    print(\"incorrect\")\n",
    "elif terms==0:\n",
    "    print(a)\n",
    "elif terms==1:\n",
    "    print(b)\n",
    "else:\n",
    "    while count < terms:\n",
    "        print (a)\n",
    "        c=a+b\n",
    "        a=b\n",
    "        b=c\n",
    "        count=count+1"
   ]
  },
  {
   "cell_type": "code",
   "execution_count": 34,
   "metadata": {},
   "outputs": [
    {
     "name": "stdout",
     "output_type": "stream",
     "text": [
      "enter num 8\n",
      "Enter an integer number: 6\n",
      "No, 6 is not a Fibonacci number\n"
     ]
    }
   ],
   "source": [
    "#check fibonacci\n",
    "#formula for checking whether a given number is a Fibonacci number or not? (5*n2 + 4) or (5*n2 – 4)\n",
    "import math\n",
    "\n",
    "# function to check perfect square\n",
    "def checkPerfectSquare(n):\n",
    "    sqrt = int(math.sqrt(n))\n",
    "    if pow(sqrt, 2) == n:\n",
    "        return True\n",
    "    else:\n",
    "        return False\n",
    "\n",
    "# function to check  Fibonacci number\n",
    "def isFibonacciNumber(n):\n",
    "    res1 = 5 * n * n + 4\n",
    "    res2 = 5 * n * n - 4\n",
    "    if checkPerfectSquare(res1) or checkPerfectSquare(res2):\n",
    "        return True\n",
    "    else:\n",
    "        return False\n",
    "\n",
    "# main code\n",
    "num = int(input(\"Enter an integer number: \"))\n",
    "\n",
    "# checking\n",
    "if isFibonacciNumber(num):\n",
    "    print (\"Yes,\", num, \"is a Fibonacci number\")\n",
    "else:\n",
    "    print (\"No,\", num, \"is not a Fibonacci number\")"
   ]
  },
  {
   "cell_type": "code",
   "execution_count": null,
   "metadata": {},
   "outputs": [],
   "source": []
  }
 ],
 "metadata": {
  "kernelspec": {
   "display_name": "Python 3",
   "language": "python",
   "name": "python3"
  },
  "language_info": {
   "codemirror_mode": {
    "name": "ipython",
    "version": 3
   },
   "file_extension": ".py",
   "mimetype": "text/x-python",
   "name": "python",
   "nbconvert_exporter": "python",
   "pygments_lexer": "ipython3",
   "version": "3.8.3"
  }
 },
 "nbformat": 4,
 "nbformat_minor": 4
}

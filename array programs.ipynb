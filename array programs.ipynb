{
 "cells": [
  {
   "cell_type": "code",
   "execution_count": 1,
   "metadata": {},
   "outputs": [
    {
     "name": "stdout",
     "output_type": "stream",
     "text": [
      "sum of the array is  100\n"
     ]
    }
   ],
   "source": [
    "#python program to find sum of array\n",
    "arr = []\n",
    "arr = [10,20,30,40]\n",
    "ans = sum(arr)\n",
    "print (\"sum of the array is \",ans)"
   ]
  },
  {
   "cell_type": "code",
   "execution_count": 2,
   "metadata": {},
   "outputs": [
    {
     "name": "stdout",
     "output_type": "stream",
     "text": [
      "the largest in the given array is : 98\n"
     ]
    }
   ],
   "source": [
    "#python program to find largest elemnt in an array\n",
    "def largest(arr,n):\n",
    "    max=arr[0]\n",
    "    for i in range (1,n):\n",
    "        if arr[i]>max:\n",
    "            max=arr[i]\n",
    "    return max\n",
    "arr=[10,5,67,34,98,56]\n",
    "n=len(arr)\n",
    "ans=largest(arr,n)\n",
    "print(\"the largest in the given array is :\",ans)"
   ]
  },
  {
   "cell_type": "code",
   "execution_count": 6,
   "metadata": {},
   "outputs": [
    {
     "name": "stdout",
     "output_type": "stream",
     "text": [
      "56 32 67 12 34 "
     ]
    }
   ],
   "source": [
    "#split the array and add the first part to the end\n",
    "def splitArr(arr,n,k):\n",
    "    for i in range(0,k):\n",
    "        x=arr[0]\n",
    "        for j in range(0,n-1):\n",
    "            arr[j]=arr[j+1]\n",
    "        arr[n-1]=x\n",
    "    \n",
    "arr=[12,34,56,32,67]\n",
    "n=len(arr)\n",
    "position=2\n",
    "splitArr(arr,n,position)\n",
    "for i in range(0,n):\n",
    "    print(arr[i], end=' ')"
   ]
  },
  {
   "cell_type": "code",
   "execution_count": null,
   "metadata": {},
   "outputs": [],
   "source": [
    "#check if the array is monotonic\n",
    "def isMonotonic(A): \n",
    "  \n",
    "    return (all(A[i] <= A[i + 1] for i in range(len(A) - 1)) or\n",
    "            all(A[i] >= A[i + 1] for i in range(len(A) - 1))) \n",
    "  \n",
    "# Driver program \n",
    "A = [6, 5, 4, 4] \n",
    "  \n",
    "# Print required result \n",
    "print(isMonotonic(A)) "
   ]
  }
 ],
 "metadata": {
  "kernelspec": {
   "display_name": "Python 3",
   "language": "python",
   "name": "python3"
  },
  "language_info": {
   "codemirror_mode": {
    "name": "ipython",
    "version": 3
   },
   "file_extension": ".py",
   "mimetype": "text/x-python",
   "name": "python",
   "nbconvert_exporter": "python",
   "pygments_lexer": "ipython3",
   "version": "3.8.3"
  }
 },
 "nbformat": 4,
 "nbformat_minor": 4
}
